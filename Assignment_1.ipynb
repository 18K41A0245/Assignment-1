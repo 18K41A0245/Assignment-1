{
  "nbformat": 4,
  "nbformat_minor": 0,
  "metadata": {
    "colab": {
      "name": "Assignment-1.ipynb",
      "provenance": [],
      "collapsed_sections": [],
      "authorship_tag": "ABX9TyPLDic39nT1JE/Ia4XHHE/H",
      "include_colab_link": true
    },
    "kernelspec": {
      "name": "python3",
      "display_name": "Python 3"
    }
  },
  "cells": [
    {
      "cell_type": "markdown",
      "metadata": {
        "id": "view-in-github",
        "colab_type": "text"
      },
      "source": [
        "<a href=\"https://colab.research.google.com/github/18K41A0245/Assignment-1/blob/master/Assignment_1.ipynb\" target=\"_parent\"><img src=\"https://colab.research.google.com/assets/colab-badge.svg\" alt=\"Open In Colab\"/></a>"
      ]
    },
    {
      "cell_type": "markdown",
      "metadata": {
        "id": "emYgmoEyH9EF",
        "colab_type": "text"
      },
      "source": [
        "1.\tDevelop a code for below scenario\n",
        "year % 12 = {0: \"monkey\", 1: \"rooster\", 2: \"dog\", 3: \"pig\", 4: \"rat\", 5: \"ox\", 6: \"tiger\",7: \"rabbit\", 8: \"dragon\", 9: \"snake\", 10: \"horse\", 11: \"sheep\"}"
      ]
    },
    {
      "cell_type": "code",
      "metadata": {
        "id": "yLSoc03SH-R7",
        "colab_type": "code",
        "colab": {
          "base_uri": "https://localhost:8080/",
          "height": 51
        },
        "outputId": "40c3d472-911f-4e5d-b8c9-515a545610dc"
      },
      "source": [
        "d = {0: \"monkey\", 1: \"rooster\", 2: \"dog\", 3: \"pig\", 4: \"rat\", 5: \"ox\", 6: \"tiger\",\n",
        "     7: \"rabbit\", 8: \"dragon\", 9: \"snake\", 10: \"horse\", 11: \"sheep\"}\n",
        "year = int(input(\"year: \"))\n",
        "y = year % 12\n",
        "if y == 0:\n",
        "    print(d[0])\n",
        "elif y == 1:\n",
        "    print(d[1])\n",
        "elif y == 2:\n",
        "    print(d[2])\n",
        "elif y == 3:\n",
        "    print(d[3])\n",
        "elif y == 4:\n",
        "    print(d[4])\n",
        "elif y == 5:\n",
        "    print(d[5])\n",
        "elif y == 6:\n",
        "    print(d[6])\n",
        "elif y == 7:\n",
        "    print(d[7])\n",
        "elif y == 8:\n",
        "    print(d[8])\n",
        "elif y == 9:\n",
        "    print(d[9])\n",
        "elif y == 10:\n",
        "    print(d[10])\n",
        "elif y == 11:\n",
        "    print(d[11])"
      ],
      "execution_count": null,
      "outputs": [
        {
          "output_type": "stream",
          "text": [
            "year: 2020\n",
            "rat\n"
          ],
          "name": "stdout"
        }
      ]
    },
    {
      "cell_type": "markdown",
      "metadata": {
        "id": "drLjo06_Ilxc",
        "colab_type": "text"
      },
      "source": [
        "2.\tA Quick Fox Transport Co. wants to develop an application for calculating amount based on distance and weight of goods. The charges (Amount) to be calculated as per rates given below. "
      ]
    },
    {
      "cell_type": "code",
      "metadata": {
        "id": "Ib_smur8Wtr0",
        "colab_type": "code",
        "colab": {
          "base_uri": "https://localhost:8080/",
          "height": 68
        },
        "outputId": "a58e2fc5-b604-4b68-d675-ba26cadc3817"
      },
      "source": [
        "distance = int(input(\"Distance to be travel: \"))\n",
        "weight = int(input(\"Weight of the goods: \"))\n",
        "if distance >= 500:\n",
        "    if weight >= 100:\n",
        "        amount = distance * 5\n",
        "    elif weight >= 10:\n",
        "        if weight <= 100:\n",
        "            amount = distance * 6\n",
        "    elif weight < 10:\n",
        "        amount = distance * 7\n",
        "elif distance < 500:\n",
        "    if weight >= 100:\n",
        "        amount = distance * 8\n",
        "    elif weight < 100:\n",
        "        amount = distance * 5\n",
        "print(\"Amount to be charged: {}/-\".format(amount))"
      ],
      "execution_count": null,
      "outputs": [
        {
          "output_type": "stream",
          "text": [
            "Distance to be travel: 520\n",
            "Weight of the goods: 50\n",
            "Amount to be charged: 3120/-\n"
          ],
          "name": "stdout"
        }
      ]
    },
    {
      "cell_type": "markdown",
      "metadata": {
        "id": "gTUoPnWdI62F",
        "colab_type": "text"
      },
      "source": [
        "3.\tThe Entertainment Paradise\n",
        "\n",
        " A theater in Delhi wants to develop a computerized Booking System. The theater offers different types of seats. The Ticket rates are- Stalls- Rs. 625/-, Circle- Rs.750/-, Upper Class- Rs.850/- and Box- Rs.1000/-. A discount is given 10% of total amount if tickets are purchased on Cash. In case of credit card holders 5% discount is given. \n"
      ]
    },
    {
      "cell_type": "code",
      "metadata": {
        "id": "PwyZlUv1W6f0",
        "colab_type": "code",
        "colab": {
          "base_uri": "https://localhost:8080/",
          "height": 68
        },
        "outputId": "667caf06-98fd-4c46-c78c-f39619eac07d"
      },
      "source": [
        "type_of_seat = str(input(\"Type of seat: \"))\n",
        "payment_mode = str(input(\"Payment mode: \"))\n",
        "d = {'Stalls': 625, 'Circle': 750, 'Upper class': 850, 'Box': 1000}\n",
        "if type_of_seat == \"Stalls\":\n",
        "    if payment_mode == \"Cash\":\n",
        "        cost_of_ticket = d['Stalls'] - (0.1 * d['Stalls'])\n",
        "        print(\"Cost of ticket: {}\".format(cost_of_ticket))\n",
        "    elif payment_mode == \"credit card\":\n",
        "        cost_of_ticket = d['Stalls'] - (0.05 * d['Stalls'])\n",
        "        print(\"Cost of ticket: {}\".format(cost_of_ticket))\n",
        "elif type_of_seat == \"Circle\":\n",
        "    if payment_mode == \"Cash\":\n",
        "        cost_of_ticket = d['Circle'] - (0.1 * d['Circle'])\n",
        "        print(\"Cost of ticket: {}\".format(cost_of_ticket))\n",
        "    elif payment_mode == \"credit card\":\n",
        "        cost_of_ticket = d['Circle'] - (0.05 * d['Circle'])\n",
        "        print(\"Cost of ticket: {}\".format(cost_of_ticket))\n",
        "elif type_of_seat == \"Upper class\":\n",
        "    if payment_mode == \"Cash\":\n",
        "        cost_of_ticket = d['Upper class'] - (0.1 * d['Upper class'])\n",
        "        print(\"Cost of ticket: {}\".format(cost_of_ticket))\n",
        "    elif payment_mode == \"credit card\":\n",
        "        cost_of_ticket = d['Upper class'] - (0.05 * d['Upper class'])\n",
        "        print(\"Cost of ticket: {}\".format(cost_of_ticket))\n",
        "elif type_of_seat == \"Box\":\n",
        "    if payment_mode == \"Cash\":\n",
        "        cost_of_ticket = d['Box'] - (0.1 * d['Box'])\n",
        "        print(\"Cost of ticket: {}\".format(cost_of_ticket))\n",
        "    elif payment_mode == \"credit card\":\n",
        "        cost_of_ticket = d['Box'] - (0.05 * d['Box'])\n",
        "        print(\"Cost of ticket: {}\".format(cost_of_ticket))"
      ],
      "execution_count": null,
      "outputs": [
        {
          "output_type": "stream",
          "text": [
            "Type of seat: Circle\n",
            "Payment mode: Cash\n",
            "Cost of ticket: 675.0\n"
          ],
          "name": "stdout"
        }
      ]
    },
    {
      "cell_type": "markdown",
      "metadata": {
        "id": "kG_7unJ0JGhJ",
        "colab_type": "text"
      },
      "source": [
        "4.\tDevelop a program that calculates the energy needed to heat water from an initial temperature to a final temperature. Your program should prompt the user to enter the amount of water in kilograms and the initial and final temperatures of the water. The formula to compute the energy is \n",
        "Q = M * (finalTemperature – initialTemperature) * 4184.\n",
        "where M is the weight of water in kilograms, temperatures are in degrees Celsius,  and energy Q is measured in joules. (L6)\n"
      ]
    },
    {
      "cell_type": "code",
      "metadata": {
        "id": "5YFmpWHFXODB",
        "colab_type": "code",
        "colab": {
          "base_uri": "https://localhost:8080/",
          "height": 85
        },
        "outputId": "14141fe2-b73c-4769-d752-b6d946740c68"
      },
      "source": [
        "M = int(input(\"Amount of water: \"))\n",
        "initial_temperature = float(input(\"Initial temperature: \"))\n",
        "final_temperature = float(input(\"Final temperature: \"))\n",
        "Q = M * (final_temperature - initial_temperature) * 4184\n",
        "print(Q)"
      ],
      "execution_count": null,
      "outputs": [
        {
          "output_type": "stream",
          "text": [
            "Amount of water: 50\n",
            "Initial temperature: 2.57\n",
            "Final temperature: 107.85\n",
            "22024576.0\n"
          ],
          "name": "stdout"
        }
      ]
    },
    {
      "cell_type": "markdown",
      "metadata": {
        "id": "WjjunJMaJSCa",
        "colab_type": "text"
      },
      "source": [
        "5.\tDevelop a program that prompts user to enter month and  print \n",
        "a.\t“Winter ” -   December ,January and February\n",
        "b.\t“Spring”  -   March ,April and May\n",
        "c.\t“Summer”  --- June ,July, August\n",
        "d.\t“Autumn ”  -- September ,October, November\n"
      ]
    },
    {
      "cell_type": "code",
      "metadata": {
        "id": "lul-69ihXsYD",
        "colab_type": "code",
        "colab": {
          "base_uri": "https://localhost:8080/",
          "height": 51
        },
        "outputId": "e2ffd33b-493c-4796-88c4-8982e9aa0dd5"
      },
      "source": [
        "month = str(input(\"enter month: \"))\n",
        "winter = [\"December\", \"January\", \"February\"]\n",
        "spring = [\"March\", \"April\", \"May\"]\n",
        "summer = [\"June\", \"July\", \"August\"]\n",
        "autumn = [\"September\", \"October\", \"November\"]\n",
        "if month in winter:\n",
        "    print(\"Winter\")\n",
        "elif month in spring:\n",
        "    print(\"Spring\")\n",
        "elif month in summer:\n",
        "    print(\"Summer\")\n",
        "elif month in autumn:\n",
        "    print(\"Autumn\")"
      ],
      "execution_count": null,
      "outputs": [
        {
          "output_type": "stream",
          "text": [
            "enter month: May\n",
            "Spring\n"
          ],
          "name": "stdout"
        }
      ]
    },
    {
      "cell_type": "markdown",
      "metadata": {
        "id": "Y2TfYCBrL3Oz",
        "colab_type": "text"
      },
      "source": [
        "6.\tBody Mass Index"
      ]
    },
    {
      "cell_type": "code",
      "metadata": {
        "id": "Wuyjm6rbYA4Y",
        "colab_type": "code",
        "colab": {
          "base_uri": "https://localhost:8080/",
          "height": 119
        },
        "outputId": "6dcff2f0-88e2-4913-c27a-db2430c9c78b"
      },
      "source": [
        "weight = float(input(\"enter weight: \"))\n",
        "height = float(input(\"enter height: \"))\n",
        "w_in_kg = weight * 0.45359237\n",
        "h_in_meters = height * 0.0254\n",
        "print(\"weight: {} kg\".format(w_in_kg))\n",
        "print(\"height: {} m\".format(h_in_meters))\n",
        "BMI = w_in_kg / (h_in_meters ** 2)\n",
        "print(\"Body Mass Index(BMI): {}\".format(BMI))\n",
        "if BMI < 18.5:\n",
        "    print(\"Underweight\")\n",
        "elif 18.5 <= BMI < 25.0:\n",
        "    print(\"Normal\")\n",
        "elif 25.0 <= BMI < 30.0:\n",
        "    print(\"Overweight\")\n",
        "elif BMI >= 30.0:\n",
        "    print(\"Obese\")"
      ],
      "execution_count": null,
      "outputs": [
        {
          "output_type": "stream",
          "text": [
            "enter weight: 130.56\n",
            "enter height: 70.58\n",
            "weight: 59.2210198272 kg\n",
            "height: 1.792732 m\n",
            "Body Mass Index(BMI): 18.426597127281582\n",
            "Underweight\n"
          ],
          "name": "stdout"
        }
      ]
    },
    {
      "cell_type": "markdown",
      "metadata": {
        "id": "Ta7oUXE_L7dB",
        "colab_type": "text"
      },
      "source": [
        "7.\tWrite a program that reads an integer between 100 and 1000 and adds all the digits in the integer "
      ]
    },
    {
      "cell_type": "code",
      "metadata": {
        "id": "pOnA601IYTj_",
        "colab_type": "code",
        "colab": {
          "base_uri": "https://localhost:8080/",
          "height": 51
        },
        "outputId": "d20f49f3-1ba7-4a46-a085-1f191c287e69"
      },
      "source": [
        "num = int(input(\"enter a number: \"))\n",
        "result = 0\n",
        "number = num\n",
        "while num > 0:\n",
        "    i = num % 10\n",
        "    result = result + i\n",
        "    num = int(num / 10)\n",
        "print(\"sum of all digits of\", number, \"is:\", result)"
      ],
      "execution_count": null,
      "outputs": [
        {
          "output_type": "stream",
          "text": [
            "enter a number: 745\n",
            "sum of all digits of 745 is: 16\n"
          ],
          "name": "stdout"
        }
      ]
    },
    {
      "cell_type": "markdown",
      "metadata": {
        "id": "vQ1wG-39MALf",
        "colab_type": "text"
      },
      "source": [
        "8.\tPrint all palindrome numbers between 1 to 1000."
      ]
    },
    {
      "cell_type": "code",
      "metadata": {
        "id": "ef7hpqQsYgRH",
        "colab_type": "code",
        "colab": {
          "base_uri": "https://localhost:8080/",
          "height": 1000
        },
        "outputId": "973c7ca1-9730-4a46-facc-0ff9cf63a7c9"
      },
      "source": [
        "maximum = int(input(\" enter the maximum value: \"))\n",
        "print(\"palindrome number between 1 and {}\".format(maximum))\n",
        "for num in range(1, maximum + 1):\n",
        "    temp = num\n",
        "    reverse = 0\n",
        "    while temp > 0:\n",
        "        reminder = temp % 10\n",
        "        reverse = (reverse * 10) + reminder\n",
        "        temp = temp // 10\n",
        "    if num == reverse:\n",
        "        print(num)"
      ],
      "execution_count": null,
      "outputs": [
        {
          "output_type": "stream",
          "text": [
            " enter the maximum value: 1000\n",
            "palindrome number between 1 and 1000\n",
            "1\n",
            "2\n",
            "3\n",
            "4\n",
            "5\n",
            "6\n",
            "7\n",
            "8\n",
            "9\n",
            "11\n",
            "22\n",
            "33\n",
            "44\n",
            "55\n",
            "66\n",
            "77\n",
            "88\n",
            "99\n",
            "101\n",
            "111\n",
            "121\n",
            "131\n",
            "141\n",
            "151\n",
            "161\n",
            "171\n",
            "181\n",
            "191\n",
            "202\n",
            "212\n",
            "222\n",
            "232\n",
            "242\n",
            "252\n",
            "262\n",
            "272\n",
            "282\n",
            "292\n",
            "303\n",
            "313\n",
            "323\n",
            "333\n",
            "343\n",
            "353\n",
            "363\n",
            "373\n",
            "383\n",
            "393\n",
            "404\n",
            "414\n",
            "424\n",
            "434\n",
            "444\n",
            "454\n",
            "464\n",
            "474\n",
            "484\n",
            "494\n",
            "505\n",
            "515\n",
            "525\n",
            "535\n",
            "545\n",
            "555\n",
            "565\n",
            "575\n",
            "585\n",
            "595\n",
            "606\n",
            "616\n",
            "626\n",
            "636\n",
            "646\n",
            "656\n",
            "666\n",
            "676\n",
            "686\n",
            "696\n",
            "707\n",
            "717\n",
            "727\n",
            "737\n",
            "747\n",
            "757\n",
            "767\n",
            "777\n",
            "787\n",
            "797\n",
            "808\n",
            "818\n",
            "828\n",
            "838\n",
            "848\n",
            "858\n",
            "868\n",
            "878\n",
            "888\n",
            "898\n",
            "909\n",
            "919\n",
            "929\n",
            "939\n",
            "949\n",
            "959\n",
            "969\n",
            "979\n",
            "989\n",
            "999\n"
          ],
          "name": "stdout"
        }
      ]
    },
    {
      "cell_type": "markdown",
      "metadata": {
        "id": "yFcqBRmwMDpn",
        "colab_type": "text"
      },
      "source": [
        "9.\tPrint all Armstrong numbers between 1 to 1000. "
      ]
    },
    {
      "cell_type": "code",
      "metadata": {
        "id": "5FCmHLZ9Yv_A",
        "colab_type": "code",
        "colab": {
          "base_uri": "https://localhost:8080/",
          "height": 136
        },
        "outputId": "d52b9348-a5e1-40d0-dd11-e9265d90b2a7"
      },
      "source": [
        "maximum = int(input(\" enter the maximum value: \"))\n",
        "print(\"palindrome number between 1 and {}\".format(maximum))\n",
        "for num in range(1, maximum + 1):\n",
        "    s = 0\n",
        "    temp = num\n",
        "    while temp > 0:\n",
        "        digit = temp % 10\n",
        "        s = s + digit ** 3\n",
        "        temp = temp // 10\n",
        "    if num == s:\n",
        "        print(num)"
      ],
      "execution_count": null,
      "outputs": [
        {
          "output_type": "stream",
          "text": [
            " enter the maximum value: 1000\n",
            "palindrome number between 1 and 1000\n",
            "1\n",
            "153\n",
            "370\n",
            "371\n",
            "407\n"
          ],
          "name": "stdout"
        }
      ]
    },
    {
      "cell_type": "markdown",
      "metadata": {
        "id": "DGjJt0WiMIqG",
        "colab_type": "text"
      },
      "source": [
        "10.\tWrite a  program which iterates the integers from 1 to 100. For multiples of three print \"Fizz\" instead of the number and print \"Buzz\" for the multiples of five. When number is divided by both three and five, print \"fizz buzz\"."
      ]
    },
    {
      "cell_type": "code",
      "metadata": {
        "id": "JwLj9RRSY5Fp",
        "colab_type": "code",
        "colab": {
          "base_uri": "https://localhost:8080/",
          "height": 833
        },
        "outputId": "af8145aa-6d6f-489b-8215-1bea7605b69e"
      },
      "source": [
        "maximum = int(input(\"enter maximum number: \"))\n",
        "for num in range(1, maximum + 1):\n",
        "    if num % 3 == 0 and num % 5 == 0:\n",
        "        print(\"{}: Fizz Buzz\".format(num))\n",
        "    elif num % 5 == 0:\n",
        "        print(\"{}: Buzz\".format(num))\n",
        "    elif num % 3 == 0:\n",
        "        print(\"{}: Fizz \".format(num))"
      ],
      "execution_count": null,
      "outputs": [
        {
          "output_type": "stream",
          "text": [
            "enter maximum number: 100\n",
            "3: Fizz \n",
            "5: Buzz\n",
            "6: Fizz \n",
            "9: Fizz \n",
            "10: Buzz\n",
            "12: Fizz \n",
            "15: Fizz Buzz\n",
            "18: Fizz \n",
            "20: Buzz\n",
            "21: Fizz \n",
            "24: Fizz \n",
            "25: Buzz\n",
            "27: Fizz \n",
            "30: Fizz Buzz\n",
            "33: Fizz \n",
            "35: Buzz\n",
            "36: Fizz \n",
            "39: Fizz \n",
            "40: Buzz\n",
            "42: Fizz \n",
            "45: Fizz Buzz\n",
            "48: Fizz \n",
            "50: Buzz\n",
            "51: Fizz \n",
            "54: Fizz \n",
            "55: Buzz\n",
            "57: Fizz \n",
            "60: Fizz Buzz\n",
            "63: Fizz \n",
            "65: Buzz\n",
            "66: Fizz \n",
            "69: Fizz \n",
            "70: Buzz\n",
            "72: Fizz \n",
            "75: Fizz Buzz\n",
            "78: Fizz \n",
            "80: Buzz\n",
            "81: Fizz \n",
            "84: Fizz \n",
            "85: Buzz\n",
            "87: Fizz \n",
            "90: Fizz Buzz\n",
            "93: Fizz \n",
            "95: Buzz\n",
            "96: Fizz \n",
            "99: Fizz \n",
            "100: Buzz\n"
          ],
          "name": "stdout"
        }
      ]
    },
    {
      "cell_type": "markdown",
      "metadata": {
        "id": "UeF7DDhMHPVL",
        "colab_type": "text"
      },
      "source": [
        "11.\tSpider Problem: A spider present at the bottom of the well of height H, needs to get out of it, using the slippery wall of the well. It decides to climb up the well; it goes up U meters and slips down D meters in one single step. So, in each step it covers (U-D) meters, and if the spider gets out of the well by covering U meters in the last step it doesn’t a slip back. For example, if the spider climbs up 5 meters and slips down by 3 meters in a single step, it covers (U - D) m in each step and 96 m in 48 steps, but in the 49th step it climbs up 5 m and reaches out of the well and it will not slip down and the step is counted as one step."
      ]
    },
    {
      "cell_type": "code",
      "metadata": {
        "id": "tNyyLQ6zHRng",
        "colab_type": "code",
        "colab": {
          "base_uri": "https://localhost:8080/",
          "height": 85
        },
        "outputId": "6c26de2e-bc5b-47da-812e-af4249b18da1"
      },
      "source": [
        "h = int(input(\"enter height of well: \"))\n",
        "u = int(input(\"enter height of spider climbed: \"))\n",
        "d = int(input(\"enter how deep the spider slipped: \"))\n",
        "step = 0\n",
        "while h >= u:\n",
        "    step += 1\n",
        "    h = h - (u - d)\n",
        "step += 1\n",
        "print(\"Number of steps the spider required to get out of well are: {}\".format(step))"
      ],
      "execution_count": null,
      "outputs": [
        {
          "output_type": "stream",
          "text": [
            "enter height of well: 200\n",
            "enter height of spider climbed: 50\n",
            "enter how deep the spider slipped: 1\n",
            "Number of steps the spider required to get out of well are: 5\n"
          ],
          "name": "stdout"
        }
      ]
    }
  ]
}